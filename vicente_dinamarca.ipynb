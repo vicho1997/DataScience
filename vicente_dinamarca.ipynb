{
  "metadata": {
    "language_info": {
      "codemirror_mode": {
        "name": "python",
        "version": 3
      },
      "file_extension": ".py",
      "mimetype": "text/x-python",
      "name": "python",
      "nbconvert_exporter": "python",
      "pygments_lexer": "ipython3",
      "version": "3.8"
    },
    "kernelspec": {
      "name": "python",
      "display_name": "Python (Pyodide)",
      "language": "python"
    }
  },
  "nbformat_minor": 4,
  "nbformat": 4,
  "cells": [
    {
      "cell_type": "code",
      "source": "",
      "metadata": {},
      "execution_count": null,
      "outputs": []
    },
    {
      "cell_type": "markdown",
      "source": "# Data science tools and Ecosystem \n\n\n\n",
      "metadata": {}
    },
    {
      "cell_type": "markdown",
      "source": "# In this notebook, data science tools and ecosystem are summarized\n\n",
      "metadata": {}
    },
    {
      "cell_type": "markdown",
      "source": "# In this notebook, data science tools and ecosystem are summarized\n\n",
      "metadata": {}
    },
    {
      "cell_type": "markdown",
      "source": " **Objectives;**\n - List popular languages for data science\n - List populat data science libraries\n - List some basic aritmetich functions \n\n",
      "metadata": {}
    },
    {
      "cell_type": "markdown",
      "source": "# Some of the popular languages data scientist use are  \n\n- R\n- Python\n- SQL\n",
      "metadata": {}
    },
    {
      "cell_type": "markdown",
      "source": "# Some of the commonly used libraries used by Data Scientists include:\n\n1.pandas\n2.matplotlib\n3.numpy",
      "metadata": {}
    },
    {
      "cell_type": "markdown",
      "source": "# Data science tools\n\n| Data Science Tools | \n| ------------       | \n|  jupyter notebook  |\n| Rstudio\n|    visual studio   |      \n",
      "metadata": {}
    },
    {
      "cell_type": "markdown",
      "source": "### Below are a few examples of evaluating arithmetic expressions in Python\n\n### Addition\nAddition is the process of combining two or more numbers to find their total.\n\nExample:\n\n5 + 3 = 8\n\n### substraction\n\n10 - 4 = 6\n\n### Multiplication\n\n3 * 7 = 21\n",
      "metadata": {}
    },
    {
      "cell_type": "code",
      "source": "# This is a simple arithmetic expression to multiply and then add integers\n\nresult = (3 * 4) + 5\nprint(result)\n\n",
      "metadata": {
        "trusted": true
      },
      "execution_count": 2,
      "outputs": [
        {
          "name": "stdout",
          "text": "17\n",
          "output_type": "stream"
        }
      ]
    },
    {
      "cell_type": "code",
      "source": "# This will convert 200 minutes to hours by diving by 60\n\nminutes = 200  \nhours = minutes / 60\nprint(hours)\n",
      "metadata": {
        "trusted": true
      },
      "execution_count": 3,
      "outputs": [
        {
          "name": "stdout",
          "text": "3.3333333333333335\n",
          "output_type": "stream"
        }
      ]
    },
    {
      "cell_type": "markdown",
      "source": "## Author\n\nVicente Dinamarca",
      "metadata": {}
    }
  ]
}